{
  "nbformat": 4,
  "nbformat_minor": 0,
  "metadata": {
    "colab": {
      "provenance": []
    },
    "kernelspec": {
      "name": "python3",
      "display_name": "Python 3"
    },
    "language_info": {
      "name": "python"
    }
  },
  "cells": [
    {
      "cell_type": "markdown",
      "source": [
        "*   **Name**         : Abhi Jeevanantham\n",
        "*   **Student ID**   : 300365729\n",
        "*   **Course Code**  :\n",
        "*   **Course Title** :  "
      ],
      "metadata": {
        "id": "BzlPkGb9iQ70"
      }
    },
    {
      "cell_type": "code",
      "source": [
        "import re\n",
        "from typing import List\n",
        "\n",
        "class practice:\n",
        "    def regexpression(self, s: str, words: List[str]) -> int:\n",
        "        def stretchy(s, q):\n",
        "            regex_pattern = r'(\\w)\\1*'\n",
        "            matches_s = re.finditer(regex_pattern, s)\n",
        "\n",
        "            for index, (match_s, match_q) in enumerate(zip(matches_s, re.finditer(regex_pattern, q))):\n",
        "                #print(f\"Iteration {index + 1}\")\n",
        "                #print(f\"Match_s: {match_s.group(0)}\")\n",
        "                #print(f\"Match_t: {match_q.group(0)}\")\n",
        "\n",
        "                if len(match_q.group(0)) > len(match_s.group(0)):\n",
        "                    return False\n",
        "                elif match_s.group(0) != match_q.group(0):\n",
        "                    #print(len(match_s.group(0)))\n",
        "                    if len(match_s.group(0)) >= 3 and match_s.group(1)==match_q.group(1):\n",
        "                        #print(\"hi\")\n",
        "                        continue\n",
        "                    else:\n",
        "                      return False\n",
        "            return True\n",
        "\n",
        "        return sum(stretchy(s, t) for t in words)\n",
        "\n",
        "#example\n",
        "practice1 = practice() #practise instance\n",
        "String = \"weeeeelcommeee\"\n",
        "words = [\"welcome\", \"wellcome\", \"welcomme\", \"weeelcomme\"]\n",
        "result = practice1.regexpression(String, words)\n",
        "print(\"No. of stretchy words:\", result)"
      ],
      "metadata": {
        "colab": {
          "base_uri": "https://localhost:8080/"
        },
        "id": "6Se2xjzYBcnt",
        "outputId": "9e4c17d4-7f5e-4081-b7a3-e018342b1ede"
      },
      "execution_count": 18,
      "outputs": [
        {
          "output_type": "stream",
          "name": "stdout",
          "text": [
            "No. of stretchy words: 2\n"
          ]
        }
      ]
    }
  ]
}